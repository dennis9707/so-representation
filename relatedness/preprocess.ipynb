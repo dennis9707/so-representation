{
 "cells": [
  {
   "cell_type": "code",
   "execution_count": 1,
   "metadata": {},
   "outputs": [],
   "source": [
    "import os\n",
    "file_path = \"./predictions/\"\n",
    "file_paths = []\n",
    "for root, dirs, files in os.walk(file_path):\n",
    "    for file_name in files:\n",
    "        file_paths.append(os.path.join(root, file_name))"
   ]
  },
  {
   "cell_type": "code",
   "execution_count": 2,
   "metadata": {},
   "outputs": [],
   "source": [
    "from src.calculate_test_scores import calculate_score\n"
   ]
  },
  {
   "cell_type": "code",
   "execution_count": null,
   "metadata": {},
   "outputs": [],
   "source": []
  },
  {
   "cell_type": "code",
   "execution_count": 3,
   "metadata": {},
   "outputs": [
    {
     "name": "stdout",
     "output_type": "stream",
     "text": [
      "Acc: 0.7851782904080145\n",
      " F1:0.7851782904080145  Recall:0.7851782904080145 Precision:0.7851782904080145 \n",
      " Duplicated:0.9028266364970213  Direct:0.5784580548237498 Indirect:0.6859305382077142 Isolated:0.9413024768097925\n",
      "Acc: 0.7812056193144743\n",
      " F1:0.7812056193144743  Recall:0.7812056193144743 Precision:0.7812056193144743 \n",
      " Duplicated:0.9042606159755318  Direct:0.571813539063349 Indirect:0.6779086837053487 Isolated:0.9358773732536436\n",
      "Acc: 0.7842666871377576\n",
      " F1:0.7842666871377576  Recall:0.7842666871377576 Precision:0.7842666871377576 \n",
      " Duplicated:0.9045981493955402  Direct:0.5698297050561798 Indirect:0.6882655222588547 Isolated:0.9414178603616561\n",
      "Acc: 0.7837389168233985\n",
      " F1:0.7837389168233985  Recall:0.7837389168233985 Precision:0.7837389168233985 \n",
      " Duplicated:0.9036782545557583  Direct:0.5827806067867688 Indirect:0.6805313548048638 Isolated:0.9405161439648188\n",
      "Acc: 0.7881913791118106\n",
      " F1:0.7881913791118106  Recall:0.7881913791118106 Precision:0.7881913791118106 \n",
      " Duplicated:0.9089320422974733  Direct:0.5844473815353282 Indirect:0.6873175538739008 Isolated:0.9419374534908126\n",
      "Acc: 0.7892853030361187\n",
      " F1:0.7892853030361187  Recall:0.7892853030361187 Precision:0.7892853030361187 \n",
      " Duplicated:0.9131978057437883  Direct:0.5639958376690947 Indirect:0.6976518393325902 Isolated:0.9434662425688212\n",
      "Acc: 0.7829616550877059\n",
      " F1:0.7829616550877059  Recall:0.7829616550877059 Precision:0.7829616550877059 \n",
      " Duplicated:0.9016367392340696  Direct:0.5690725305905303 Indirect:0.6857926027448003 Isolated:0.9381192817281045\n",
      "Acc: 0.7857828273135531\n",
      " F1:0.7857828273135531  Recall:0.7857828273135531 Precision:0.7857828273135531 \n",
      " Duplicated:0.908462004778376  Direct:0.5673746207388898 Indirect:0.6934165232358003 Isolated:0.9415903204607831\n",
      "Acc: 0.7469773154723065\n",
      " F1:0.7469773154723065  Recall:0.7469773154723065 Precision:0.7469773154723065 \n",
      " Duplicated:0.915554562882722  Direct:0.46749674243521067 Indirect:0.6659529582165685 Isolated:0.9012204194060759\n",
      "Acc: 0.7825586304840133\n",
      " F1:0.7825586304840133  Recall:0.7825586304840133 Precision:0.7825586304840133 \n",
      " Duplicated:0.8957534366517818  Direct:0.5861106411774657 Indirect:0.6778541530663185 Isolated:0.9419238098904695\n",
      "Acc: 0.7733850228380609\n",
      " F1:0.7733850228380609  Recall:0.7733850228380609 Precision:0.7733850228380609 \n",
      " Duplicated:0.9012464046021094  Direct:0.5714654504775837 Indirect:0.6558780814425017 Isolated:0.9333637521625887\n",
      "Acc: 0.7851590987602195\n",
      " F1:0.7851590987602195  Recall:0.7851590987602195 Precision:0.7851590987602195 \n",
      " Duplicated:0.9079610405797618  Direct:0.5635792778649922 Indirect:0.6932011992603365 Isolated:0.9411221426922189\n",
      "Acc: 0.7861858519172457\n",
      " F1:0.7861858519172457  Recall:0.7861858519172457 Precision:0.7861858519172457 \n",
      " Duplicated:0.9050150629097998  Direct:0.5784463560543209 Indirect:0.6874745605920444 Isolated:0.9423880940508611\n",
      "Acc: 0.7849863739300657\n",
      " F1:0.7849863739300657  Recall:0.7849863739300657 Precision:0.7849863739300657 \n",
      " Duplicated:0.9024385937030954  Direct:0.5712151832000703 Indirect:0.6909708755794411 Isolated:0.9417520432830667\n"
     ]
    }
   ],
   "source": [
    "for i in file_paths:\n",
    "    calculate_score(i)"
   ]
  },
  {
   "cell_type": "code",
   "execution_count": 4,
   "metadata": {},
   "outputs": [
    {
     "name": "stdout",
     "output_type": "stream",
     "text": [
      "./predictions/18500/predict_results.txt\n",
      "./predictions/11000/predict_results.txt\n",
      "./predictions/15000/predict_results.txt\n",
      "./predictions/12000/predict_results.txt\n",
      "./predictions/19500/predict_results.txt\n",
      "./predictions/8000/predict_results.txt\n",
      "./predictions/17000/predict_results.txt\n",
      "./predictions/13000/predict_results.txt\n",
      "./predictions/April-18-longformer-code-mlm-v3/checkpoint-7000/predict_results.txt\n",
      "./predictions/18000/predict_results.txt\n",
      "./predictions/3000/predict_results.txt\n",
      "./predictions/14000/predict_results.txt\n",
      "./predictions/19000/predict_results.txt\n",
      "./predictions/16000/predict_results.txt\n"
     ]
    }
   ],
   "source": [
    "\n",
    "for i in file_paths:\n",
    "    print(i)"
   ]
  }
 ],
 "metadata": {
  "interpreter": {
   "hash": "d4d1e4263499bec80672ea0156c357c1ee493ec2b1c70f0acce89fc37c4a6abe"
  },
  "kernelspec": {
   "display_name": "Python 3.6.13 ('base')",
   "language": "python",
   "name": "python3"
  },
  "language_info": {
   "codemirror_mode": {
    "name": "ipython",
    "version": 3
   },
   "file_extension": ".py",
   "mimetype": "text/x-python",
   "name": "python",
   "nbconvert_exporter": "python",
   "pygments_lexer": "ipython3",
   "version": "3.6.13"
  },
  "orig_nbformat": 4
 },
 "nbformat": 4,
 "nbformat_minor": 2
}
